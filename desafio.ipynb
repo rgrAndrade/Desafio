{
  "nbformat": 4,
  "nbformat_minor": 0,
  "metadata": {
    "colab": {
      "provenance": [],
      "mount_file_id": "1pbfToB4a2-cCSO7wQdo7l90tlwm1jglJ",
      "authorship_tag": "ABX9TyNbDrNlOLkZKJ13TZU1l5ez",
      "include_colab_link": true
    },
    "kernelspec": {
      "name": "python3",
      "display_name": "Python 3"
    },
    "language_info": {
      "name": "python"
    }
  },
  "cells": [
    {
      "cell_type": "markdown",
      "metadata": {
        "id": "view-in-github",
        "colab_type": "text"
      },
      "source": [
        "<a href=\"https://colab.research.google.com/github/rgrAndrade/Desafio/blob/main/desafio.ipynb\" target=\"_parent\"><img src=\"https://colab.research.google.com/assets/colab-badge.svg\" alt=\"Open In Colab\"/></a>"
      ]
    },
    {
      "cell_type": "markdown",
      "source": [
        "# <font color='red' style='font-size: 30px;'>Conhecendo o Dataset</font>\n",
        "<hr style='border: 2px solid red;'>"
      ],
      "metadata": {
        "id": "JzQF9CYKKazO"
      }
    },
    {
      "cell_type": "markdown",
      "source": [
        "## O Dataset e o Projeto\n",
        " \n",
        "\n",
        "### Descrição:\n",
        "<p style='font-size: 18px; line-height: 2; margin: 10px 50px; text-align: justify;'>Nosso objetivo neste projeto é criar um modelo de machine learning, utilizando a técnica de Regressão Linear, que faça previsões sobre as compras que as pessoas fazem em algum momento acessando o Blog.</p>\n",
        "\n",
        "<p style='font-size: 18px; line-height: 2; margin: 10px 50px; text-align: justify;'>Vamos utilizar um dataset para treinamento de machine learning .</p>\n",
        "\n",
        "<p style='font-size: 18px; line-height: 2; margin: 10px 50px; text-align: justify;'>Iremos seguir os passos a seguindo cada etapa nas células</p>\n",
        "\n",
        "### Dados:\n",
        "<ul style='font-size: 18px; line-height: 2; text-align: justify;'>\n",
        "    <li><b>data</b> - Data</li>\n",
        "    <li><b>receita</b> - Receita das Compras</li>\n",
        "    <li><b>usuarios_blog</b> - Número de pessoas que acessam o Blog</li>\n",
        "    <li><b>usuarios_site</b> - Número de pessoas que acessam o Site</li>\n",
        "    <li><b>transacoes_blog</b> - Número de pessoas que passam pelo Blog que não compram</li>\n",
        "    <li><b>transacoes_site</b> - Número de pessoas que passam pelo Site que não compram</li>\n",
        "</ul>"
      ],
      "metadata": {
        "id": "g48NXV8ZKgb_"
      }
    },
    {
      "cell_type": "markdown",
      "source": [
        "## Leitura dos dados"
      ],
      "metadata": {
        "id": "FsRm9uYzXB4v"
      }
    },
    {
      "cell_type": "code",
      "execution_count": 79,
      "metadata": {
        "colab": {
          "base_uri": "https://localhost:8080/",
          "height": 206
        },
        "id": "HXSCxkN-BTR9",
        "outputId": "ca41db02-571d-4abf-9ec6-de1ac2da40d9"
      },
      "outputs": [
        {
          "output_type": "execute_result",
          "data": {
            "text/plain": [
              "         data  receita  transacoes_blog  transacoes_site  usuarios_blog  \\\n",
              "0  2019-01-01   349184                0             4693              0   \n",
              "1  2019-01-02   867328                0             8501              0   \n",
              "2  2019-01-03   758590                0             9375              0   \n",
              "3  2019-01-04   688873                0             8405              0   \n",
              "4  2019-01-05   441760                0             6136              0   \n",
              "\n",
              "   usuarios_site  \n",
              "0          46739  \n",
              "1          83129  \n",
              "2          86067  \n",
              "3          69363  \n",
              "4          56183  "
            ],
            "text/html": [
              "\n",
              "  <div id=\"df-cf216cde-0cdb-4646-961f-5e4ccc7956ac\">\n",
              "    <div class=\"colab-df-container\">\n",
              "      <div>\n",
              "<style scoped>\n",
              "    .dataframe tbody tr th:only-of-type {\n",
              "        vertical-align: middle;\n",
              "    }\n",
              "\n",
              "    .dataframe tbody tr th {\n",
              "        vertical-align: top;\n",
              "    }\n",
              "\n",
              "    .dataframe thead th {\n",
              "        text-align: right;\n",
              "    }\n",
              "</style>\n",
              "<table border=\"1\" class=\"dataframe\">\n",
              "  <thead>\n",
              "    <tr style=\"text-align: right;\">\n",
              "      <th></th>\n",
              "      <th>data</th>\n",
              "      <th>receita</th>\n",
              "      <th>transacoes_blog</th>\n",
              "      <th>transacoes_site</th>\n",
              "      <th>usuarios_blog</th>\n",
              "      <th>usuarios_site</th>\n",
              "    </tr>\n",
              "  </thead>\n",
              "  <tbody>\n",
              "    <tr>\n",
              "      <th>0</th>\n",
              "      <td>2019-01-01</td>\n",
              "      <td>349184</td>\n",
              "      <td>0</td>\n",
              "      <td>4693</td>\n",
              "      <td>0</td>\n",
              "      <td>46739</td>\n",
              "    </tr>\n",
              "    <tr>\n",
              "      <th>1</th>\n",
              "      <td>2019-01-02</td>\n",
              "      <td>867328</td>\n",
              "      <td>0</td>\n",
              "      <td>8501</td>\n",
              "      <td>0</td>\n",
              "      <td>83129</td>\n",
              "    </tr>\n",
              "    <tr>\n",
              "      <th>2</th>\n",
              "      <td>2019-01-03</td>\n",
              "      <td>758590</td>\n",
              "      <td>0</td>\n",
              "      <td>9375</td>\n",
              "      <td>0</td>\n",
              "      <td>86067</td>\n",
              "    </tr>\n",
              "    <tr>\n",
              "      <th>3</th>\n",
              "      <td>2019-01-04</td>\n",
              "      <td>688873</td>\n",
              "      <td>0</td>\n",
              "      <td>8405</td>\n",
              "      <td>0</td>\n",
              "      <td>69363</td>\n",
              "    </tr>\n",
              "    <tr>\n",
              "      <th>4</th>\n",
              "      <td>2019-01-05</td>\n",
              "      <td>441760</td>\n",
              "      <td>0</td>\n",
              "      <td>6136</td>\n",
              "      <td>0</td>\n",
              "      <td>56183</td>\n",
              "    </tr>\n",
              "  </tbody>\n",
              "</table>\n",
              "</div>\n",
              "      <button class=\"colab-df-convert\" onclick=\"convertToInteractive('df-cf216cde-0cdb-4646-961f-5e4ccc7956ac')\"\n",
              "              title=\"Convert this dataframe to an interactive table.\"\n",
              "              style=\"display:none;\">\n",
              "        \n",
              "  <svg xmlns=\"http://www.w3.org/2000/svg\" height=\"24px\"viewBox=\"0 0 24 24\"\n",
              "       width=\"24px\">\n",
              "    <path d=\"M0 0h24v24H0V0z\" fill=\"none\"/>\n",
              "    <path d=\"M18.56 5.44l.94 2.06.94-2.06 2.06-.94-2.06-.94-.94-2.06-.94 2.06-2.06.94zm-11 1L8.5 8.5l.94-2.06 2.06-.94-2.06-.94L8.5 2.5l-.94 2.06-2.06.94zm10 10l.94 2.06.94-2.06 2.06-.94-2.06-.94-.94-2.06-.94 2.06-2.06.94z\"/><path d=\"M17.41 7.96l-1.37-1.37c-.4-.4-.92-.59-1.43-.59-.52 0-1.04.2-1.43.59L10.3 9.45l-7.72 7.72c-.78.78-.78 2.05 0 2.83L4 21.41c.39.39.9.59 1.41.59.51 0 1.02-.2 1.41-.59l7.78-7.78 2.81-2.81c.8-.78.8-2.07 0-2.86zM5.41 20L4 18.59l7.72-7.72 1.47 1.35L5.41 20z\"/>\n",
              "  </svg>\n",
              "      </button>\n",
              "      \n",
              "  <style>\n",
              "    .colab-df-container {\n",
              "      display:flex;\n",
              "      flex-wrap:wrap;\n",
              "      gap: 12px;\n",
              "    }\n",
              "\n",
              "    .colab-df-convert {\n",
              "      background-color: #E8F0FE;\n",
              "      border: none;\n",
              "      border-radius: 50%;\n",
              "      cursor: pointer;\n",
              "      display: none;\n",
              "      fill: #1967D2;\n",
              "      height: 32px;\n",
              "      padding: 0 0 0 0;\n",
              "      width: 32px;\n",
              "    }\n",
              "\n",
              "    .colab-df-convert:hover {\n",
              "      background-color: #E2EBFA;\n",
              "      box-shadow: 0px 1px 2px rgba(60, 64, 67, 0.3), 0px 1px 3px 1px rgba(60, 64, 67, 0.15);\n",
              "      fill: #174EA6;\n",
              "    }\n",
              "\n",
              "    [theme=dark] .colab-df-convert {\n",
              "      background-color: #3B4455;\n",
              "      fill: #D2E3FC;\n",
              "    }\n",
              "\n",
              "    [theme=dark] .colab-df-convert:hover {\n",
              "      background-color: #434B5C;\n",
              "      box-shadow: 0px 1px 3px 1px rgba(0, 0, 0, 0.15);\n",
              "      filter: drop-shadow(0px 1px 2px rgba(0, 0, 0, 0.3));\n",
              "      fill: #FFFFFF;\n",
              "    }\n",
              "  </style>\n",
              "\n",
              "      <script>\n",
              "        const buttonEl =\n",
              "          document.querySelector('#df-cf216cde-0cdb-4646-961f-5e4ccc7956ac button.colab-df-convert');\n",
              "        buttonEl.style.display =\n",
              "          google.colab.kernel.accessAllowed ? 'block' : 'none';\n",
              "\n",
              "        async function convertToInteractive(key) {\n",
              "          const element = document.querySelector('#df-cf216cde-0cdb-4646-961f-5e4ccc7956ac');\n",
              "          const dataTable =\n",
              "            await google.colab.kernel.invokeFunction('convertToInteractive',\n",
              "                                                     [key], {});\n",
              "          if (!dataTable) return;\n",
              "\n",
              "          const docLinkHtml = 'Like what you see? Visit the ' +\n",
              "            '<a target=\"_blank\" href=https://colab.research.google.com/notebooks/data_table.ipynb>data table notebook</a>'\n",
              "            + ' to learn more about interactive tables.';\n",
              "          element.innerHTML = '';\n",
              "          dataTable['output_type'] = 'display_data';\n",
              "          await google.colab.output.renderOutput(dataTable, element);\n",
              "          const docLink = document.createElement('div');\n",
              "          docLink.innerHTML = docLinkHtml;\n",
              "          element.appendChild(docLink);\n",
              "        }\n",
              "      </script>\n",
              "    </div>\n",
              "  </div>\n",
              "  "
            ]
          },
          "metadata": {},
          "execution_count": 79
        }
      ],
      "source": [
        "import pandas as pd\n",
        "uri = \"https://raw.githubusercontent.com/rgrAndrade/Desafio/main/dados/psel%20-%20data.csv\"\n",
        "dados = pd.read_csv(uri)\n",
        "dados.head( )"
      ]
    },
    {
      "cell_type": "markdown",
      "source": [
        "## Verificando o tamanho do dataset"
      ],
      "metadata": {
        "id": "h4lli3ELXLK4"
      }
    },
    {
      "cell_type": "code",
      "source": [
        "dados.shape\n"
      ],
      "metadata": {
        "colab": {
          "base_uri": "https://localhost:8080/"
        },
        "id": "jy3-7y3VEkQo",
        "outputId": "5284692a-065b-4a48-ade5-09dbec50eec8"
      },
      "execution_count": 80,
      "outputs": [
        {
          "output_type": "execute_result",
          "data": {
            "text/plain": [
              "(639, 6)"
            ]
          },
          "metadata": {},
          "execution_count": 80
        }
      ]
    },
    {
      "cell_type": "markdown",
      "source": [
        "# <font color='red' style='font-size: 30px;'>Análises Preliminares</font>\n",
        "<hr style='border: 2px solid red;'>"
      ],
      "metadata": {
        "id": "FZ-UJ8L2XbFp"
      }
    },
    {
      "cell_type": "markdown",
      "source": [
        "## Estatísticas descritivas"
      ],
      "metadata": {
        "id": "hsAAzyfZXgkC"
      }
    },
    {
      "cell_type": "code",
      "source": [
        "dados.describe().round(2)"
      ],
      "metadata": {
        "colab": {
          "base_uri": "https://localhost:8080/",
          "height": 300
        },
        "id": "7apLsrr5YWap",
        "outputId": "8c42810d-b00a-4fc4-fcac-8b3703ce8b76"
      },
      "execution_count": 81,
      "outputs": [
        {
          "output_type": "execute_result",
          "data": {
            "text/plain": [
              "           receita  transacoes_blog  transacoes_site  usuarios_blog  \\\n",
              "count       639.00           639.00           639.00         639.00   \n",
              "mean    1623891.19           528.35         19039.14        1439.85   \n",
              "std     1160581.16          1201.78         13677.73        3369.87   \n",
              "min       32085.00             0.00          3557.00           0.00   \n",
              "25%      807342.00             0.00         11013.00           0.00   \n",
              "50%     1263161.00             0.00         16069.00           0.00   \n",
              "75%     2232769.50             0.00         22606.50           0.00   \n",
              "max    12266844.00          5586.00        188955.00       13059.00   \n",
              "\n",
              "       usuarios_site  \n",
              "count         639.00  \n",
              "mean       101610.49  \n",
              "std         37240.23  \n",
              "min         26298.00  \n",
              "25%         77727.00  \n",
              "50%         96104.00  \n",
              "75%        117586.50  \n",
              "max        369989.00  "
            ],
            "text/html": [
              "\n",
              "  <div id=\"df-d2a75b8c-0718-48f3-9941-73e74dfe9f73\">\n",
              "    <div class=\"colab-df-container\">\n",
              "      <div>\n",
              "<style scoped>\n",
              "    .dataframe tbody tr th:only-of-type {\n",
              "        vertical-align: middle;\n",
              "    }\n",
              "\n",
              "    .dataframe tbody tr th {\n",
              "        vertical-align: top;\n",
              "    }\n",
              "\n",
              "    .dataframe thead th {\n",
              "        text-align: right;\n",
              "    }\n",
              "</style>\n",
              "<table border=\"1\" class=\"dataframe\">\n",
              "  <thead>\n",
              "    <tr style=\"text-align: right;\">\n",
              "      <th></th>\n",
              "      <th>receita</th>\n",
              "      <th>transacoes_blog</th>\n",
              "      <th>transacoes_site</th>\n",
              "      <th>usuarios_blog</th>\n",
              "      <th>usuarios_site</th>\n",
              "    </tr>\n",
              "  </thead>\n",
              "  <tbody>\n",
              "    <tr>\n",
              "      <th>count</th>\n",
              "      <td>639.00</td>\n",
              "      <td>639.00</td>\n",
              "      <td>639.00</td>\n",
              "      <td>639.00</td>\n",
              "      <td>639.00</td>\n",
              "    </tr>\n",
              "    <tr>\n",
              "      <th>mean</th>\n",
              "      <td>1623891.19</td>\n",
              "      <td>528.35</td>\n",
              "      <td>19039.14</td>\n",
              "      <td>1439.85</td>\n",
              "      <td>101610.49</td>\n",
              "    </tr>\n",
              "    <tr>\n",
              "      <th>std</th>\n",
              "      <td>1160581.16</td>\n",
              "      <td>1201.78</td>\n",
              "      <td>13677.73</td>\n",
              "      <td>3369.87</td>\n",
              "      <td>37240.23</td>\n",
              "    </tr>\n",
              "    <tr>\n",
              "      <th>min</th>\n",
              "      <td>32085.00</td>\n",
              "      <td>0.00</td>\n",
              "      <td>3557.00</td>\n",
              "      <td>0.00</td>\n",
              "      <td>26298.00</td>\n",
              "    </tr>\n",
              "    <tr>\n",
              "      <th>25%</th>\n",
              "      <td>807342.00</td>\n",
              "      <td>0.00</td>\n",
              "      <td>11013.00</td>\n",
              "      <td>0.00</td>\n",
              "      <td>77727.00</td>\n",
              "    </tr>\n",
              "    <tr>\n",
              "      <th>50%</th>\n",
              "      <td>1263161.00</td>\n",
              "      <td>0.00</td>\n",
              "      <td>16069.00</td>\n",
              "      <td>0.00</td>\n",
              "      <td>96104.00</td>\n",
              "    </tr>\n",
              "    <tr>\n",
              "      <th>75%</th>\n",
              "      <td>2232769.50</td>\n",
              "      <td>0.00</td>\n",
              "      <td>22606.50</td>\n",
              "      <td>0.00</td>\n",
              "      <td>117586.50</td>\n",
              "    </tr>\n",
              "    <tr>\n",
              "      <th>max</th>\n",
              "      <td>12266844.00</td>\n",
              "      <td>5586.00</td>\n",
              "      <td>188955.00</td>\n",
              "      <td>13059.00</td>\n",
              "      <td>369989.00</td>\n",
              "    </tr>\n",
              "  </tbody>\n",
              "</table>\n",
              "</div>\n",
              "      <button class=\"colab-df-convert\" onclick=\"convertToInteractive('df-d2a75b8c-0718-48f3-9941-73e74dfe9f73')\"\n",
              "              title=\"Convert this dataframe to an interactive table.\"\n",
              "              style=\"display:none;\">\n",
              "        \n",
              "  <svg xmlns=\"http://www.w3.org/2000/svg\" height=\"24px\"viewBox=\"0 0 24 24\"\n",
              "       width=\"24px\">\n",
              "    <path d=\"M0 0h24v24H0V0z\" fill=\"none\"/>\n",
              "    <path d=\"M18.56 5.44l.94 2.06.94-2.06 2.06-.94-2.06-.94-.94-2.06-.94 2.06-2.06.94zm-11 1L8.5 8.5l.94-2.06 2.06-.94-2.06-.94L8.5 2.5l-.94 2.06-2.06.94zm10 10l.94 2.06.94-2.06 2.06-.94-2.06-.94-.94-2.06-.94 2.06-2.06.94z\"/><path d=\"M17.41 7.96l-1.37-1.37c-.4-.4-.92-.59-1.43-.59-.52 0-1.04.2-1.43.59L10.3 9.45l-7.72 7.72c-.78.78-.78 2.05 0 2.83L4 21.41c.39.39.9.59 1.41.59.51 0 1.02-.2 1.41-.59l7.78-7.78 2.81-2.81c.8-.78.8-2.07 0-2.86zM5.41 20L4 18.59l7.72-7.72 1.47 1.35L5.41 20z\"/>\n",
              "  </svg>\n",
              "      </button>\n",
              "      \n",
              "  <style>\n",
              "    .colab-df-container {\n",
              "      display:flex;\n",
              "      flex-wrap:wrap;\n",
              "      gap: 12px;\n",
              "    }\n",
              "\n",
              "    .colab-df-convert {\n",
              "      background-color: #E8F0FE;\n",
              "      border: none;\n",
              "      border-radius: 50%;\n",
              "      cursor: pointer;\n",
              "      display: none;\n",
              "      fill: #1967D2;\n",
              "      height: 32px;\n",
              "      padding: 0 0 0 0;\n",
              "      width: 32px;\n",
              "    }\n",
              "\n",
              "    .colab-df-convert:hover {\n",
              "      background-color: #E2EBFA;\n",
              "      box-shadow: 0px 1px 2px rgba(60, 64, 67, 0.3), 0px 1px 3px 1px rgba(60, 64, 67, 0.15);\n",
              "      fill: #174EA6;\n",
              "    }\n",
              "\n",
              "    [theme=dark] .colab-df-convert {\n",
              "      background-color: #3B4455;\n",
              "      fill: #D2E3FC;\n",
              "    }\n",
              "\n",
              "    [theme=dark] .colab-df-convert:hover {\n",
              "      background-color: #434B5C;\n",
              "      box-shadow: 0px 1px 3px 1px rgba(0, 0, 0, 0.15);\n",
              "      filter: drop-shadow(0px 1px 2px rgba(0, 0, 0, 0.3));\n",
              "      fill: #FFFFFF;\n",
              "    }\n",
              "  </style>\n",
              "\n",
              "      <script>\n",
              "        const buttonEl =\n",
              "          document.querySelector('#df-d2a75b8c-0718-48f3-9941-73e74dfe9f73 button.colab-df-convert');\n",
              "        buttonEl.style.display =\n",
              "          google.colab.kernel.accessAllowed ? 'block' : 'none';\n",
              "\n",
              "        async function convertToInteractive(key) {\n",
              "          const element = document.querySelector('#df-d2a75b8c-0718-48f3-9941-73e74dfe9f73');\n",
              "          const dataTable =\n",
              "            await google.colab.kernel.invokeFunction('convertToInteractive',\n",
              "                                                     [key], {});\n",
              "          if (!dataTable) return;\n",
              "\n",
              "          const docLinkHtml = 'Like what you see? Visit the ' +\n",
              "            '<a target=\"_blank\" href=https://colab.research.google.com/notebooks/data_table.ipynb>data table notebook</a>'\n",
              "            + ' to learn more about interactive tables.';\n",
              "          element.innerHTML = '';\n",
              "          dataTable['output_type'] = 'display_data';\n",
              "          await google.colab.output.renderOutput(dataTable, element);\n",
              "          const docLink = document.createElement('div');\n",
              "          docLink.innerHTML = docLinkHtml;\n",
              "          element.appendChild(docLink);\n",
              "        }\n",
              "      </script>\n",
              "    </div>\n",
              "  </div>\n",
              "  "
            ]
          },
          "metadata": {},
          "execution_count": 81
        }
      ]
    },
    {
      "cell_type": "markdown",
      "source": [
        "## Matriz de correlação\n",
        "\n",
        "<p style='font-size: 18px; line-height: 2; margin: 10px 50px; text-align: justify;'>O <b>coeficiente de correlação</b> é uma medida de associação linear entre duas variáveis e situa-se entre <b>-1</b> e <b>+1</b> sendo que <b>-1</b> indica associação negativa perfeita e <b>+1</b> indica associação positiva perfeita.</p>\n",
        "\n",
        "### Observe as correlações entre as variáveis:\n",
        "<ul style='font-size: 16px; line-height: 2; text-align: justify;'>\n",
        "    <li>Quais são mais correlacionadas com a variável dependete (receita - Receita de Compras)?</li>\n",
        "    <li>Qual o relacionamento entre elas (positivo ou negativo)?</li>\n",
        "    <li>Existe correlação forte entre as variáveis explicativas?</li>\n",
        "</ul>"
      ],
      "metadata": {
        "id": "vvYQLV89XtaH"
      }
    },
    {
      "cell_type": "code",
      "source": [
        "dados.corr().round(4)"
      ],
      "metadata": {
        "colab": {
          "base_uri": "https://localhost:8080/",
          "height": 206
        },
        "id": "AIjOOVakZTv6",
        "outputId": "16be94a6-9fef-4c02-fc31-fb8c6ded501f"
      },
      "execution_count": 82,
      "outputs": [
        {
          "output_type": "execute_result",
          "data": {
            "text/plain": [
              "                 receita  transacoes_blog  transacoes_site  usuarios_blog  \\\n",
              "receita           1.0000           0.5317           0.8126         0.5180   \n",
              "transacoes_blog   0.5317           1.0000           0.0689         0.8933   \n",
              "transacoes_site   0.8126           0.0689           1.0000         0.0543   \n",
              "usuarios_blog     0.5180           0.8933           0.0543         1.0000   \n",
              "usuarios_site     0.7112           0.1623           0.8200         0.1518   \n",
              "\n",
              "                 usuarios_site  \n",
              "receita                 0.7112  \n",
              "transacoes_blog         0.1623  \n",
              "transacoes_site         0.8200  \n",
              "usuarios_blog           0.1518  \n",
              "usuarios_site           1.0000  "
            ],
            "text/html": [
              "\n",
              "  <div id=\"df-cb0138c4-db83-4827-bc10-d1161ded2fb8\">\n",
              "    <div class=\"colab-df-container\">\n",
              "      <div>\n",
              "<style scoped>\n",
              "    .dataframe tbody tr th:only-of-type {\n",
              "        vertical-align: middle;\n",
              "    }\n",
              "\n",
              "    .dataframe tbody tr th {\n",
              "        vertical-align: top;\n",
              "    }\n",
              "\n",
              "    .dataframe thead th {\n",
              "        text-align: right;\n",
              "    }\n",
              "</style>\n",
              "<table border=\"1\" class=\"dataframe\">\n",
              "  <thead>\n",
              "    <tr style=\"text-align: right;\">\n",
              "      <th></th>\n",
              "      <th>receita</th>\n",
              "      <th>transacoes_blog</th>\n",
              "      <th>transacoes_site</th>\n",
              "      <th>usuarios_blog</th>\n",
              "      <th>usuarios_site</th>\n",
              "    </tr>\n",
              "  </thead>\n",
              "  <tbody>\n",
              "    <tr>\n",
              "      <th>receita</th>\n",
              "      <td>1.0000</td>\n",
              "      <td>0.5317</td>\n",
              "      <td>0.8126</td>\n",
              "      <td>0.5180</td>\n",
              "      <td>0.7112</td>\n",
              "    </tr>\n",
              "    <tr>\n",
              "      <th>transacoes_blog</th>\n",
              "      <td>0.5317</td>\n",
              "      <td>1.0000</td>\n",
              "      <td>0.0689</td>\n",
              "      <td>0.8933</td>\n",
              "      <td>0.1623</td>\n",
              "    </tr>\n",
              "    <tr>\n",
              "      <th>transacoes_site</th>\n",
              "      <td>0.8126</td>\n",
              "      <td>0.0689</td>\n",
              "      <td>1.0000</td>\n",
              "      <td>0.0543</td>\n",
              "      <td>0.8200</td>\n",
              "    </tr>\n",
              "    <tr>\n",
              "      <th>usuarios_blog</th>\n",
              "      <td>0.5180</td>\n",
              "      <td>0.8933</td>\n",
              "      <td>0.0543</td>\n",
              "      <td>1.0000</td>\n",
              "      <td>0.1518</td>\n",
              "    </tr>\n",
              "    <tr>\n",
              "      <th>usuarios_site</th>\n",
              "      <td>0.7112</td>\n",
              "      <td>0.1623</td>\n",
              "      <td>0.8200</td>\n",
              "      <td>0.1518</td>\n",
              "      <td>1.0000</td>\n",
              "    </tr>\n",
              "  </tbody>\n",
              "</table>\n",
              "</div>\n",
              "      <button class=\"colab-df-convert\" onclick=\"convertToInteractive('df-cb0138c4-db83-4827-bc10-d1161ded2fb8')\"\n",
              "              title=\"Convert this dataframe to an interactive table.\"\n",
              "              style=\"display:none;\">\n",
              "        \n",
              "  <svg xmlns=\"http://www.w3.org/2000/svg\" height=\"24px\"viewBox=\"0 0 24 24\"\n",
              "       width=\"24px\">\n",
              "    <path d=\"M0 0h24v24H0V0z\" fill=\"none\"/>\n",
              "    <path d=\"M18.56 5.44l.94 2.06.94-2.06 2.06-.94-2.06-.94-.94-2.06-.94 2.06-2.06.94zm-11 1L8.5 8.5l.94-2.06 2.06-.94-2.06-.94L8.5 2.5l-.94 2.06-2.06.94zm10 10l.94 2.06.94-2.06 2.06-.94-2.06-.94-.94-2.06-.94 2.06-2.06.94z\"/><path d=\"M17.41 7.96l-1.37-1.37c-.4-.4-.92-.59-1.43-.59-.52 0-1.04.2-1.43.59L10.3 9.45l-7.72 7.72c-.78.78-.78 2.05 0 2.83L4 21.41c.39.39.9.59 1.41.59.51 0 1.02-.2 1.41-.59l7.78-7.78 2.81-2.81c.8-.78.8-2.07 0-2.86zM5.41 20L4 18.59l7.72-7.72 1.47 1.35L5.41 20z\"/>\n",
              "  </svg>\n",
              "      </button>\n",
              "      \n",
              "  <style>\n",
              "    .colab-df-container {\n",
              "      display:flex;\n",
              "      flex-wrap:wrap;\n",
              "      gap: 12px;\n",
              "    }\n",
              "\n",
              "    .colab-df-convert {\n",
              "      background-color: #E8F0FE;\n",
              "      border: none;\n",
              "      border-radius: 50%;\n",
              "      cursor: pointer;\n",
              "      display: none;\n",
              "      fill: #1967D2;\n",
              "      height: 32px;\n",
              "      padding: 0 0 0 0;\n",
              "      width: 32px;\n",
              "    }\n",
              "\n",
              "    .colab-df-convert:hover {\n",
              "      background-color: #E2EBFA;\n",
              "      box-shadow: 0px 1px 2px rgba(60, 64, 67, 0.3), 0px 1px 3px 1px rgba(60, 64, 67, 0.15);\n",
              "      fill: #174EA6;\n",
              "    }\n",
              "\n",
              "    [theme=dark] .colab-df-convert {\n",
              "      background-color: #3B4455;\n",
              "      fill: #D2E3FC;\n",
              "    }\n",
              "\n",
              "    [theme=dark] .colab-df-convert:hover {\n",
              "      background-color: #434B5C;\n",
              "      box-shadow: 0px 1px 3px 1px rgba(0, 0, 0, 0.15);\n",
              "      filter: drop-shadow(0px 1px 2px rgba(0, 0, 0, 0.3));\n",
              "      fill: #FFFFFF;\n",
              "    }\n",
              "  </style>\n",
              "\n",
              "      <script>\n",
              "        const buttonEl =\n",
              "          document.querySelector('#df-cb0138c4-db83-4827-bc10-d1161ded2fb8 button.colab-df-convert');\n",
              "        buttonEl.style.display =\n",
              "          google.colab.kernel.accessAllowed ? 'block' : 'none';\n",
              "\n",
              "        async function convertToInteractive(key) {\n",
              "          const element = document.querySelector('#df-cb0138c4-db83-4827-bc10-d1161ded2fb8');\n",
              "          const dataTable =\n",
              "            await google.colab.kernel.invokeFunction('convertToInteractive',\n",
              "                                                     [key], {});\n",
              "          if (!dataTable) return;\n",
              "\n",
              "          const docLinkHtml = 'Like what you see? Visit the ' +\n",
              "            '<a target=\"_blank\" href=https://colab.research.google.com/notebooks/data_table.ipynb>data table notebook</a>'\n",
              "            + ' to learn more about interactive tables.';\n",
              "          element.innerHTML = '';\n",
              "          dataTable['output_type'] = 'display_data';\n",
              "          await google.colab.output.renderOutput(dataTable, element);\n",
              "          const docLink = document.createElement('div');\n",
              "          docLink.innerHTML = docLinkHtml;\n",
              "          element.appendChild(docLink);\n",
              "        }\n",
              "      </script>\n",
              "    </div>\n",
              "  </div>\n",
              "  "
            ]
          },
          "metadata": {},
          "execution_count": 82
        }
      ]
    },
    {
      "cell_type": "markdown",
      "source": [
        "# <font color='red' style='font-size: 30px;'>Comportamento da Variável Dependente (Y)</font>\n",
        "<hr style='border: 2px solid red;'>"
      ],
      "metadata": {
        "id": "noujerc3X8S-"
      }
    },
    {
      "cell_type": "markdown",
      "source": [
        "# Análises gráficas"
      ],
      "metadata": {
        "id": "YwQVajqRYC03"
      }
    },
    {
      "cell_type": "markdown",
      "source": [
        "## Importando biblioteca seaborn"
      ],
      "metadata": {
        "id": "KQ_GzUoDYKbU"
      }
    },
    {
      "cell_type": "code",
      "source": [
        "import seaborn as sns"
      ],
      "metadata": {
        "id": "lanBFMLNkjSq"
      },
      "execution_count": 83,
      "outputs": []
    },
    {
      "cell_type": "markdown",
      "source": [
        "## Configure o estilo e cor dos gráficos"
      ],
      "metadata": {
        "id": "rhYODMtvYU5q"
      }
    },
    {
      "cell_type": "code",
      "source": [
        "# palette -> Accent, Accent_r, Blues, Blues_r, BrBG, BrBG_r, BuGn, BuGn_r, BuPu, BuPu_r, CMRmap, CMRmap_r, Dark2, Dark2_r, GnBu, GnBu_r, Greens, Greens_r, Greys, Greys_r, OrRd, OrRd_r, Oranges, Oranges_r, PRGn, PRGn_r, Paired, Paired_r, Pastel1, Pastel1_r, Pastel2, Pastel2_r, PiYG, PiYG_r, PuBu, PuBuGn, PuBuGn_r, PuBu_r, PuOr, PuOr_r, PuRd, PuRd_r, Purples, Purples_r, RdBu, RdBu_r, RdGy, RdGy_r, RdPu, RdPu_r, RdYlBu, RdYlBu_r, RdYlGn, RdYlGn_r, Reds, Reds_r, Set1, Set1_r, Set2, Set2_r, Set3, Set3_r, Spectral, Spectral_r, Wistia, Wistia_r, YlGn, YlGnBu, YlGnBu_r, YlGn_r, YlOrBr, YlOrBr_r, YlOrRd, YlOrRd_r, afmhot, afmhot_r, autumn, autumn_r, binary, binary_r, bone, bone_r, brg, brg_r, bwr, bwr_r, cividis, cividis_r, cool, cool_r, coolwarm, coolwarm_r, copper, copper_r, cubehelix, cubehelix_r, flag, flag_r, gist_earth, gist_earth_r, gist_gray, gist_gray_r, gist_heat, gist_heat_r, gist_ncar, gist_ncar_r, gist_rainbow, gist_rainbow_r, gist_stern, gist_stern_r, gist_yarg, gist_yarg_r, gnuplot, gnuplot2, gnuplot2_r, gnuplot_r, gray, gray_r, hot, hot_r, hsv, hsv_r, icefire, icefire_r, inferno, inferno_r, jet, jet_r, magma, magma_r, mako, mako_r, nipy_spectral, nipy_spectral_r, ocean, ocean_r, pink, pink_r, plasma, plasma_r, prism, prism_r, rainbow, rainbow_r, rocket, rocket_r, seismic, seismic_r, spring, spring_r, summer, summer_r, tab10, tab10_r, tab20, tab20_r, tab20b, tab20b_r, tab20c, tab20c_r, terrain, terrain_r, viridis, viridis_r, vlag, vlag_r, winter, winter_r\n",
        "sns.set_palette(\"Accent\")\n",
        "\n",
        "# style -> white, dark, whitegrid, darkgrid, ticks\n",
        "sns.set_style(\"darkgrid\")"
      ],
      "metadata": {
        "id": "Mcp-ilttlK07"
      },
      "execution_count": 84,
      "outputs": []
    },
    {
      "cell_type": "markdown",
      "source": [
        "## Box plot da variável *dependente* (y)\n",
        "\n",
        "\n",
        "### Avalie o comportamento da distribuição da variável dependente:\n",
        "<ul style='font-size: 16px; line-height: 2; text-align: justify;'>\n",
        "    <li>Parecem existir valores discrepantes (outliers)?</li>\n",
        "    <li>O box plot apresenta alguma tendência?</li>\n",
        "</ul>"
      ],
      "metadata": {
        "id": "9WiVJfCRKWOD"
      }
    },
    {
      "cell_type": "markdown",
      "source": [
        "https://seaborn.pydata.org/generated/seaborn.boxplot.html?highlight=boxplot#seaborn.boxplot"
      ],
      "metadata": {
        "id": "zRprTYdNYqvX"
      }
    },
    {
      "cell_type": "code",
      "source": [
        "ax = sns.boxplot(data=dados['receita'], orient='v', width=0.2)\n",
        "ax.figure.set_size_inches(12, 6)\n",
        "ax.set_title('receita - Receita de Compras', fontsize=20)\n",
        "ax.set_ylabel('$', fontsize=16)\n",
        "ax"
      ],
      "metadata": {
        "colab": {
          "base_uri": "https://localhost:8080/",
          "height": 412
        },
        "id": "TNDVFe6mYmaO",
        "outputId": "ee49b183-d968-4947-afb9-673dfa36a5f9"
      },
      "execution_count": 85,
      "outputs": [
        {
          "output_type": "execute_result",
          "data": {
            "text/plain": [
              "<matplotlib.axes._subplots.AxesSubplot at 0x7f14e815bb50>"
            ]
          },
          "metadata": {},
          "execution_count": 85
        },
        {
          "output_type": "display_data",
          "data": {
            "text/plain": [
              "<Figure size 864x432 with 1 Axes>"
            ],
            "image/png": "[encoded data removed]"
          },
          "metadata": {}
        }
      ]
    },
    {
      "cell_type": "markdown",
      "source": [
        "## Distribuição de frequências da variável *dependente* (y)\n",
        "\n",
        "Construa um histograma da variável dependente (receita - Receita de Compras).\n",
        "\n",
        "### Avalie:\n",
        "<ul style='font-size: 16px; line-height: 2; text-align: justify;'>\n",
        "    <li>A distribuição de frequências da variável dependente parece ser assimétrica?</li>\n",
        "    <li>É possível supor que a variável dependente segue uma distribuição normal?</li>\n",
        "</ul>"
      ],
      "metadata": {
        "id": "L_3gL6J3ZF2Y"
      }
    },
    {
      "cell_type": "code",
      "source": [
        "ax = sns.distplot(dados['receita'])\n",
        "ax.figure.set_size_inches(12, 6)\n",
        "ax.set_title('Distribuição de Frequências', fontsize=20)\n",
        "ax.set_ylabel('Frequências', fontsize=16)\n",
        "ax.set_xlabel('$', fontsize=16)\n",
        "ax"
      ],
      "metadata": {
        "colab": {
          "base_uri": "https://localhost:8080/",
          "height": 487
        },
        "id": "9SOrHdHWZTsV",
        "outputId": "5e291605-f32b-4063-8e5f-f7fb8b3a1740"
      },
      "execution_count": 86,
      "outputs": [
        {
          "output_type": "stream",
          "name": "stderr",
          "text": [
            "/usr/local/lib/python3.8/dist-packages/seaborn/distributions.py:2619: FutureWarning: `distplot` is a deprecated function and will be removed in a future version. Please adapt your code to use either `displot` (a figure-level function with similar flexibility) or `histplot` (an axes-level function for histograms).\n",
            "  warnings.warn(msg, FutureWarning)\n"
          ]
        },
        {
          "output_type": "execute_result",
          "data": {
            "text/plain": [
              "<matplotlib.axes._subplots.AxesSubplot at 0x7f14e80e3fa0>"
            ]
          },
          "metadata": {},
          "execution_count": 86
        },
        {
          "output_type": "display_data",
          "data": {
            "text/plain": [
              "<Figure size 864x432 with 1 Axes>"
            ],
            "image/png": "[encoded data removed]"
          },
          "metadata": {}
        }
      ]
    },
    {
      "cell_type": "markdown",
      "source": [],
      "metadata": {
        "id": "zEOsp8gOg8cu"
      }
    },
    {
      "cell_type": "markdown",
      "source": [
        "# <font color='red' style='font-size: 30px;'>Estimando um Modelo de Regressão Linear</font>\n",
        "<hr style='border: 2px solid red;'>"
      ],
      "metadata": {
        "id": "T5qItaExg9Cu"
      }
    },
    {
      "cell_type": "markdown",
      "source": [
        "## Importando o *train_test_split* da biblioteca *scikit-learn*"
      ],
      "metadata": {
        "id": "CKoBsZ56lC1Y"
      }
    },
    {
      "cell_type": "markdown",
      "source": [
        "https://scikit-learn.org/stable/modules/generated/sklearn.model_selection.train_test_split.html"
      ],
      "metadata": {
        "id": "aJvtzfgmlE6k"
      }
    },
    {
      "cell_type": "code",
      "source": [
        "from sklearn.model_selection import train_test_split"
      ],
      "metadata": {
        "id": "eB9sf3sCeHl8"
      },
      "execution_count": 87,
      "outputs": []
    },
    {
      "cell_type": "markdown",
      "source": [
        "## Criando uma Series (pandas) para armazenar a variável dependente (y)"
      ],
      "metadata": {
        "id": "UZ1DlC-Olbbd"
      }
    },
    {
      "cell_type": "code",
      "source": [
        "y = dados['receita']"
      ],
      "metadata": {
        "id": "WecyNREKhfP2"
      },
      "execution_count": 88,
      "outputs": []
    },
    {
      "cell_type": "markdown",
      "source": [
        "## Criando um DataFrame (pandas) para armazenar as variáveis explicativas (X)"
      ],
      "metadata": {
        "id": "Mtqjpae5lptg"
      }
    },
    {
      "cell_type": "code",
      "source": [
        "X = dados[[  'transacoes_blog', 'transacoes_site', 'usuarios_blog', 'usuarios_site']]"
      ],
      "metadata": {
        "id": "FkG1aPUqlrXx"
      },
      "execution_count": 89,
      "outputs": []
    },
    {
      "cell_type": "markdown",
      "source": [
        "## Criando os datasets de treino e de teste"
      ],
      "metadata": {
        "id": "oIyx66tAmt0j"
      }
    },
    {
      "cell_type": "code",
      "source": [
        "X_train, X_test, y_train, y_test = train_test_split(X, y, test_size=0.3, random_state=2811)"
      ],
      "metadata": {
        "id": "1Pju904-mvBu"
      },
      "execution_count": 90,
      "outputs": []
    },
    {
      "cell_type": "markdown",
      "source": [
        "## Importando *LinearRegression* e *metrics* da biblioteca *scikit-learn*\n",
        "\n",
        "https://scikit-learn.org/stable/modules/generated/sklearn.linear_model.LinearRegression.html\n",
        "\n",
        "https://scikit-learn.org/stable/modules/classes.html#regression-metrics"
      ],
      "metadata": {
        "id": "JXOHqlkHm6mG"
      }
    },
    {
      "cell_type": "code",
      "source": [
        "from sklearn.linear_model import LinearRegression\n",
        "from sklearn import metrics"
      ],
      "metadata": {
        "id": "d09Qxcclmyh4"
      },
      "execution_count": 91,
      "outputs": []
    },
    {
      "cell_type": "markdown",
      "source": [
        "## Instanciando a classe *LinearRegression()*"
      ],
      "metadata": {
        "id": "wKYeK2Z9nGNV"
      }
    },
    {
      "cell_type": "code",
      "source": [
        "modelo = LinearRegression()"
      ],
      "metadata": {
        "id": "VZpqvYaRnHpN"
      },
      "execution_count": 92,
      "outputs": []
    },
    {
      "cell_type": "markdown",
      "source": [
        "## Utilizando o método *fit()* para estimar o modelo linear utilizando os dados de TREINO (y_train e X_train)\n",
        "\n",
        "https://scikit-learn.org/stable/modules/generated/sklearn.linear_model.LinearRegression.html#sklearn.linear_model.LinearRegression.fit"
      ],
      "metadata": {
        "id": "Ik18468tnQuk"
      }
    },
    {
      "cell_type": "code",
      "source": [
        "modelo.fit(X_train, y_train)"
      ],
      "metadata": {
        "colab": {
          "base_uri": "https://localhost:8080/"
        },
        "id": "92amJJr5nRyw",
        "outputId": "d57fc28a-abbe-4635-ae3a-ca52f28c8548"
      },
      "execution_count": 93,
      "outputs": [
        {
          "output_type": "execute_result",
          "data": {
            "text/plain": [
              "LinearRegression()"
            ]
          },
          "metadata": {},
          "execution_count": 93
        }
      ]
    },
    {
      "cell_type": "markdown",
      "source": [
        "## Obtendo o coeficiente de determinação (R²) do modelo estimado com os dados de TREINO\n",
        "\n",
        "https://scikit-learn.org/stable/modules/generated/sklearn.linear_model.LinearRegression.html#sklearn.linear_model.LinearRegression.score\n",
        "\n",
        "\n",
        "### Avalie:\n",
        "<ul style='font-size: 16px; line-height: 2; text-align: justify;'>\n",
        "    <li>O modelo apresenta um bom ajuste?</li>\n",
        "    <li>Você lembra o que representa o R²?</li>\n",
        "    <li>Qual medida podemos tomar para melhorar essa estatística?</li>\n",
        "</ul>"
      ],
      "metadata": {
        "id": "n-4YBlqmn6Q3"
      }
    },
    {
      "cell_type": "code",
      "source": [
        "print('R² = {}'.format(modelo.score(X_train, y_train).round(2)))"
      ],
      "metadata": {
        "colab": {
          "base_uri": "https://localhost:8080/"
        },
        "id": "Em-eQ1PDn73S",
        "outputId": "6f218ea3-cb3f-4690-f921-20f479e301be"
      },
      "execution_count": 94,
      "outputs": [
        {
          "output_type": "stream",
          "name": "stdout",
          "text": [
            "R² = 0.86\n"
          ]
        }
      ]
    },
    {
      "cell_type": "markdown",
      "source": [
        "## Gerando previsões para os dados de TESTE (X_test) utilizando o método *predict()*\n",
        "\n",
        "https://scikit-learn.org/stable/modules/generated/sklearn.linear_model.LinearRegression.html#sklearn.linear_model.LinearRegression.predict"
      ],
      "metadata": {
        "id": "VlJsre3RoEhv"
      }
    },
    {
      "cell_type": "code",
      "source": [
        "y_previsto = modelo.predict(X_test)"
      ],
      "metadata": {
        "id": "JDVf5JnkoFrT"
      },
      "execution_count": 95,
      "outputs": []
    },
    {
      "cell_type": "markdown",
      "source": [
        "## Obtendo o coeficiente de determinação (R²) para as previsões do nosso modelo\n",
        "\n",
        "https://scikit-learn.org/stable/modules/generated/sklearn.metrics.r2_score.html#sklearn.metrics.r2_score"
      ],
      "metadata": {
        "id": "by9r9x3pomXN"
      }
    },
    {
      "cell_type": "code",
      "source": [
        "print('R² = %s' % metrics.r2_score(y_test, y_previsto).round(2))"
      ],
      "metadata": {
        "colab": {
          "base_uri": "https://localhost:8080/"
        },
        "id": "9PUZu0SvoPto",
        "outputId": "4d4d3a11-fd27-4df7-db0e-daae21448a45"
      },
      "execution_count": 96,
      "outputs": [
        {
          "output_type": "stream",
          "name": "stdout",
          "text": [
            "R² = 0.95\n"
          ]
        }
      ]
    },
    {
      "cell_type": "markdown",
      "source": [
        "# <font color='red' style='font-size: 30px;'>Obtendo Previsões Pontuais</font>\n",
        "<hr style='border: 2px solid red;'>"
      ],
      "metadata": {
        "id": "d4QCHLFNo_h3"
      }
    },
    {
      "cell_type": "markdown",
      "source": [
        "## Criando um simulador simples\n",
        "\n",
        "Crie um simulador que gere estimativas de preço a partir de um conjunto de informações de um imóvel."
      ],
      "metadata": {
        "id": "4WW493EgpFvH"
      }
    },
    {
      "cell_type": "code",
      "source": [
        "transacoes_blog=0\n",
        "transacoes_site=0\n",
        "usuarios_blog=1110\n",
        "usuarios_site=0\n",
        " \n",
        "entrada=[[transacoes_blog, transacoes_site, usuarios_blog, usuarios_site]]\n",
        "\n",
        "print('$ {0:.2f}'.format(modelo.predict(entrada)[0]))"
      ],
      "metadata": {
        "colab": {
          "base_uri": "https://localhost:8080/"
        },
        "id": "kg60aFCeotZX",
        "outputId": "1b5f0828-41f5-471f-f9b3-e6238090384e"
      },
      "execution_count": 99,
      "outputs": [
        {
          "output_type": "stream",
          "name": "stdout",
          "text": [
            "$ 272451.00\n"
          ]
        },
        {
          "output_type": "stream",
          "name": "stderr",
          "text": [
            "/usr/local/lib/python3.8/dist-packages/sklearn/base.py:450: UserWarning: X does not have valid feature names, but LinearRegression was fitted with feature names\n",
            "  warnings.warn(\n"
          ]
        }
      ]
    },
    {
      "cell_type": "markdown",
      "source": [
        "#Conclusão"
      ],
      "metadata": {
        "id": "0AMubtXwr1wt"
      }
    },
    {
      "cell_type": "markdown",
      "source": [
        "Considerando que o Blog tem três meses de criação, e com número de zero usuarios, e tranzações zero, seguindo todas as  metodologias de analises gráficas, modelos de regressão, foi constado que o número de usuários impactar sim em termos de receita, ou seja quanto mais pessoas que acessam o blog, maior a receita, o modelo segue com o número já estabelecido de receita, devido os valores do conjunto do Dataset, simulando um número qualquer de aumento de usuários do Blog, pode  ver que a receita aumenta, a abordagem de uma sessão a mais do site que é o Blog provou válida, os próximos passos seria, fazer com que aumente o números de pessoas que acessão o Blog, como dicas, e vídeos de explicações de assuntos gerais, como algumas das ferramentas de enganjamentos para atrair usuários ao Blogo.   "
      ],
      "metadata": {
        "id": "qQFtdTEMsIIM"
      }
    },
    {
      "cell_type": "code",
      "source": [],
      "metadata": {
        "id": "j2ES6lrusG7s"
      },
      "execution_count": null,
      "outputs": []
    }
  ]
}